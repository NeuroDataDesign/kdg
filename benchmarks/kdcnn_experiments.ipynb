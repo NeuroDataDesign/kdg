{
  "nbformat": 4,
  "nbformat_minor": 0,
  "metadata": {
    "accelerator": "GPU",
    "colab": {
      "name": "KD-CNN.ipynb",
      "provenance": [],
      "collapsed_sections": [
        "RBYZ3SismRLX"
      ]
    },
    "kernelspec": {
      "display_name": "Python 3",
      "name": "python3"
    },
    "language_info": {
      "name": "python"
    }
  },
  "cells": [
    {
      "cell_type": "markdown",
      "metadata": {
        "id": "KEENccehmb1d"
      },
      "source": [
        "# KD-CNN Class"
      ]
    },
    {
      "cell_type": "code",
      "metadata": {
        "id": "FgjVaBynf8yo"
      },
      "source": [
        "# import standard libraries\n",
        "from sklearn.mixture import GaussianMixture\n",
        "import tensorflow as tf\n",
        "tf.config.run_functions_eagerly(True)\n",
        "from tensorflow import keras\n",
        "from keras import layers\n",
        "from keras import Model\n",
        "from sklearn.utils.validation import check_array, check_is_fitted, check_X_y\n",
        "import numpy as np\n",
        "from scipy.stats import multivariate_normal\n",
        "import warnings\n",
        "import matplotlib.pyplot as plt\n",
        "from sklearn.covariance import LedoitWolf"
      ],
      "execution_count": null,
      "outputs": []
    },
    {
      "cell_type": "code",
      "metadata": {
        "id": "r_k1fuL8fEbt"
      },
      "source": [
        "class kdcnn():\n",
        "\n",
        "    def __init__(self,\n",
        "        network,\n",
        "        num_fc_layers,\n",
        "        covariance_types = 'full', \n",
        "        criterion = None,\n",
        "        compile_kwargs = {\n",
        "            \"loss\": \"categorical_crossentropy\",\n",
        "            \"optimizer\": keras.optimizers.Adam(3e-4)\n",
        "            },\n",
        "        fit_kwargs = {\n",
        "            \"epochs\": 10,\n",
        "            \"batch_size\": 256,\n",
        "            \"verbose\": True\n",
        "            }\n",
        "        ):\n",
        "        super().__init__()\n",
        "        self.polytope_means = {}\n",
        "        self.polytope_cov = {}\n",
        "        self.network = network\n",
        "        self.num_fc_layers = num_fc_layers\n",
        "        self.encoder = None # convolutional encoder\n",
        "        self.compile_kwargs = compile_kwargs\n",
        "        self.fit_kwargs = fit_kwargs\n",
        "        self.covariance_types = covariance_types\n",
        "        self.criterion = criterion\n",
        "        self.num_fc_neurons = 0\n",
        "\n",
        "    def _get_polytopes(self, X):\n",
        "        r\"\"\"\n",
        "        Get the polytopes (neural network activation paths) for a given set of observations.\n",
        "        \n",
        "        Parameters\n",
        "        ----------\n",
        "        X : ndarray\n",
        "            Input data matrix.\n",
        "\n",
        "        num_fc_layers: int\n",
        "            Number of fully-connected layers in the CNN\n",
        "            \n",
        "        Returns\n",
        "        -------\n",
        "        polytope_memberships : binary list-of-lists\n",
        "                               Each list represents activations of nodes in the neural network for a given observation\n",
        "                               0 = not activated; 1 = activated\n",
        "        \"\"\"\n",
        "        polytope_memberships = []\n",
        "        last_activations = X\n",
        "        total_layers = len(self.network.layers)\n",
        "        fully_connected_layers = np.arange(total_layers-self.num_fc_layers, total_layers, 1)\n",
        "\n",
        "        # Iterate through neural network manually, getting node activations at each step\n",
        "        for layer_id in fully_connected_layers:\n",
        "            weights, bias = self.network.layers[layer_id].get_weights()\n",
        "            \n",
        "            # Calculate new activations based on input to this layer\n",
        "            preactivation = np.matmul(last_activations, weights) + bias\n",
        "            \n",
        "            # get list of activated nodes in this layer\n",
        "            if layer_id == total_layers - 1:\n",
        "                binary_preactivation = (preactivation > 0.5).astype('int')\n",
        "            else:\n",
        "                binary_preactivation = (preactivation > 0).astype('int')\n",
        "            \n",
        "            # determine the polytope memberships only based on the penultimate layer\n",
        "            if layer_id == total_layers - 2:\n",
        "              polytope_memberships.append(binary_preactivation)\n",
        "\n",
        "            # # determine the polytope memberships only based on all the FC layers\n",
        "            # polytope_memberships.append(binary_preactivation)\n",
        "            \n",
        "            # remove all nodes that were not activated\n",
        "            last_activations = preactivation * binary_preactivation\n",
        "          \n",
        "        #Concatenate all activations for given observation\n",
        "        polytope_obs = np.concatenate(polytope_memberships, axis = 1)\n",
        "        polytope_memberships = [np.tensordot(polytope_obs, 2 ** np.arange(0, np.shape(polytope_obs)[1]), axes = 1)]\n",
        "        self.num_fc_neurons = polytope_obs.shape[1]\n",
        "        return polytope_memberships\n",
        "\n",
        "    def fit(self, X, y):\n",
        "        r\"\"\"\n",
        "        Fits the kernel density forest.\n",
        "        Parameters\n",
        "        ----------\n",
        "        X : ndarray\n",
        "            Input data matrix.\n",
        "        y : ndarray\n",
        "            Output (i.e. response) data matrix.\n",
        "        \"\"\"\n",
        "        \n",
        "        self.labels = np.unique(y)\n",
        "        feature_dim = X.shape[1]\n",
        "\n",
        "        # get the encoder outputs\n",
        "        self.encoder = Model(self.network.input, self.network.layers[-(self.num_fc_layers + 1)].output)\n",
        "        X = self.encoder.predict(X)\n",
        "        \n",
        "        for label in self.labels:\n",
        "            print(\"label : \", label)\n",
        "            self.polytope_means[label] = []\n",
        "            self.polytope_cov[label] = []\n",
        "            \n",
        "            # Get all training items that match our given label\n",
        "            X_ = X[np.where(y==label)[0]]\n",
        "            \n",
        "            # Calculate polytope memberships for each observation in X_\n",
        "            polytope_memberships = self._get_polytopes(X_)[0]\n",
        "            unique_polytopes = np.unique(polytope_memberships) # get the unique polytopes\n",
        "            print(\"Number of Polytopes : \", len(polytope_memberships))\n",
        "            print(\"Number of Unique Polytopes : \", len(unique_polytopes))\n",
        "\n",
        "            polytope_member_count = [] # store the polytope member counts\n",
        "            for polytope in unique_polytopes:\n",
        "                idx = np.where(polytope_memberships==polytope)[0] # collect the samples that belong to the current polytope\n",
        "                polytope_member_count.append(len(idx))\n",
        "                \n",
        "                if len(idx) < 10: # don't fit a gaussian to singleton polytopes\n",
        "                    continue\n",
        "                \n",
        "                # get the activation pattern of the current polytope\n",
        "                current_polytope_activation = np.binary_repr(polytope, width=self.num_fc_neurons)[::-1] \n",
        "\n",
        "                # compute the weights\n",
        "                weights = []\n",
        "                for member in polytope_memberships:\n",
        "                    member_activation = np.binary_repr(member, width=self.num_fc_neurons)[::-1] \n",
        "                    \n",
        "                    # # weight based on the total number of matches\n",
        "                    # weight = np.sum(np.array(list(current_polytope_activation))==np.array(list(member_activation)))/self.num_fc_neurons\n",
        "                \n",
        "                    ## weight based on the first mistmatch \n",
        "                    match_status = np.array(list(current_polytope_activation))==np.array(list(member_activation))\n",
        "                    if len(np.where(match_status.astype('int')==0)[0]) == 0:\n",
        "                        weight = 1.0\n",
        "                    else:\n",
        "                        first_mismatch_idx = np.where(match_status.astype('int')==0)[0][0]\n",
        "                        weight = first_mismatch_idx / self.num_fc_neurons\n",
        "                    \n",
        "                    weights.append(weight)\n",
        "\n",
        "                weights = np.array(weights)\n",
        "\n",
        "                X_tmp = X_.copy()\n",
        "                polytope_mean_ = np.average(X_tmp, axis=0, weights=weights) # compute the weighted average of the samples \n",
        "                X_tmp -= polytope_mean_ # center the data\n",
        "\n",
        "                sqrt_weights = np.sqrt(weights)\n",
        "                sqrt_weights = np.expand_dims(sqrt_weights, axis=-1)\n",
        "                X_tmp *= sqrt_weights # scale the centered data with the square root of the weights\n",
        "\n",
        "                # compute the paramters of the Gaussian underlying the polytope\n",
        "                 \n",
        "                ## Gaussian Mixture Model\n",
        "                # gm = GaussianMixture(n_components=1, covariance_type=self.covariance_types, reg_covar=1e-4).fit(X_tmp)\n",
        "                # polytope_mean_ = gm.means_[0]\n",
        "                # polytope_cov_ = gm.covariances_[0]\n",
        "                \n",
        "                # LedoitWolf Estimator\n",
        "                covariance_model = LedoitWolf(assume_centered=True)\n",
        "                covariance_model.fit(X_tmp)\n",
        "                polytope_cov_ = covariance_model.covariance_ * len(weights) / sum(weights)\n",
        "\n",
        "                # store the mean and covariances\n",
        "                self.polytope_means[label].append(\n",
        "                        polytope_mean_\n",
        "                )\n",
        "                self.polytope_cov[label].append(\n",
        "                        polytope_cov_\n",
        "                )\n",
        "\n",
        "            plt.hist(polytope_member_count, bins=30)\n",
        "            plt.xlabel(\"Number of Members\")\n",
        "            plt.ylabel(\"Number of Polytopes\")\n",
        "            plt.show()\n",
        "\n",
        "    def _compute_pdf(self, X, label, polytope_idx):\n",
        "        r\"\"\"\n",
        "        Calculate probability density function using the kernel density network for a given group.\n",
        "        Parameters\n",
        "        ----------\n",
        "        X : ndarray\n",
        "            Input data matrix.\n",
        "        label : string\n",
        "                A single group we want the PDF for\n",
        "        polytope_idx : index of a polytope, within label\n",
        "        \"\"\"\n",
        "        polytope_mean = self.polytope_means[label][polytope_idx]\n",
        "        polytope_cov = self.polytope_cov[label][polytope_idx]\n",
        "\n",
        "        var = multivariate_normal(\n",
        "            mean=polytope_mean, \n",
        "            cov=polytope_cov, \n",
        "            allow_singular=True\n",
        "            )\n",
        "\n",
        "        likelihood = var.pdf(X)\n",
        "        return likelihood\n",
        "\n",
        "    def predict_proba(self, X):\n",
        "        r\"\"\"\n",
        "        Calculate posteriors using the kernel density network.\n",
        "        Parameters\n",
        "        ----------\n",
        "        X : ndarray\n",
        "            Input data matrix.\n",
        "        \"\"\"\n",
        "        X = check_array(X)\n",
        "\n",
        "        likelihoods = np.zeros(\n",
        "            (np.size(X,0), len(self.labels)),\n",
        "            dtype=float\n",
        "        )\n",
        "        \n",
        "        for ii,label in enumerate(self.labels):\n",
        "            for polytope_idx,_ in enumerate(self.polytope_means[label]):\n",
        "                likelihoods[:,ii] += np.nan_to_num(self._compute_pdf(X, label, polytope_idx))\n",
        "\n",
        "        proba = (likelihoods.T/(np.sum(likelihoods,axis=1)+1e-100)).T\n",
        "        return proba\n",
        "\n",
        "    def predict(self, X):\n",
        "        r\"\"\"\n",
        "        Perform inference using the kernel density forest.\n",
        "        Parameters\n",
        "        ----------\n",
        "        X : ndarray\n",
        "            Input data matrix.\n",
        "        \"\"\"\n",
        "        # get the encoder outputs\n",
        "        X = self.encoder.predict(X)\n",
        "        return np.argmax(self.predict_proba(X), axis = 1)"
      ],
      "execution_count": null,
      "outputs": []
    },
    {
      "cell_type": "markdown",
      "metadata": {
        "id": "-QCl9gvYgtNh"
      },
      "source": [
        "#MNIST"
      ]
    },
    {
      "cell_type": "code",
      "metadata": {
        "colab": {
          "base_uri": "https://localhost:8080/"
        },
        "id": "VIKe1_G2gyul",
        "outputId": "7618da9f-ee74-4443-a35c-9ace041045fa"
      },
      "source": [
        "## load data \n",
        "(x_train, y_train), (x_test, y_test) = keras.datasets.mnist.load_data()"
      ],
      "execution_count": null,
      "outputs": [
        {
          "output_type": "stream",
          "name": "stdout",
          "text": [
            "Downloading data from https://storage.googleapis.com/tensorflow/tf-keras-datasets/mnist.npz\n",
            "11493376/11490434 [==============================] - 0s 0us/step\n",
            "11501568/11490434 [==============================] - 0s 0us/step\n"
          ]
        }
      ]
    },
    {
      "cell_type": "code",
      "metadata": {
        "id": "qvgT6hNtkfgu"
      },
      "source": [
        "x_train = np.expand_dims(x_train, -1)\n",
        "x_test = np.expand_dims(x_test, -1)"
      ],
      "execution_count": null,
      "outputs": []
    },
    {
      "cell_type": "code",
      "metadata": {
        "id": "8i5va4ByhAkF"
      },
      "source": [
        "## normalize\n",
        "x_train = x_train/255.0\n",
        "x_test = x_test/255.0"
      ],
      "execution_count": null,
      "outputs": []
    },
    {
      "cell_type": "code",
      "metadata": {
        "id": "0E3RqlGThKSX"
      },
      "source": [
        "## define network \n",
        "\n",
        "def getCNN():\n",
        "\n",
        "  network_base = keras.Sequential()\n",
        "\n",
        "  # conv blocks\n",
        "  network_base.add(layers.Conv2D(filters=2, kernel_size=(3, 3), strides=(1, 1), padding='same', input_shape=(28, 28, 1)))\n",
        "  network_base.add(layers.BatchNormalization())\n",
        "  network_base.add(layers.Activation('relu'))\n",
        "\n",
        "  network_base.add(layers.Conv2D(filters=4, kernel_size=(3, 3), strides=(2, 2), padding='same'))\n",
        "  network_base.add(layers.BatchNormalization())\n",
        "  network_base.add(layers.Activation('relu'))\n",
        "\n",
        "  network_base.add(layers.Conv2D(filters=8, kernel_size=(3, 3), strides=(2, 2), padding='same'))\n",
        "  network_base.add(layers.BatchNormalization())\n",
        "  network_base.add(layers.Activation('relu'))\n",
        "\n",
        "  network_base.add(layers.Flatten())\n",
        "\n",
        "  # fully-connected layers\n",
        "  network_base.add(layers.Dense(20, activation='relu'))\n",
        "  network_base.add(layers.Dense(20, activation='relu'))\n",
        "  network_base.add(layers.Dense(20, activation='relu'))\n",
        "  network_base.add(layers.Dense(10, activation='softmax'))\n",
        "\n",
        "  network_base.compile(loss=\"categorical_crossentropy\", optimizer=keras.optimizers.Adam(3e-4))\n",
        "  return network_base"
      ],
      "execution_count": null,
      "outputs": []
    },
    {
      "cell_type": "markdown",
      "metadata": {
        "id": "DMlre__Uj2v1"
      },
      "source": [
        "## MNIST Experiments"
      ]
    },
    {
      "cell_type": "code",
      "metadata": {
        "colab": {
          "base_uri": "https://localhost:8080/"
        },
        "id": "FsIBF9vGcs9h",
        "outputId": "5d6044eb-ae45-40de-ac6e-80bdb9c5c3ac"
      },
      "source": [
        "network = getCNN()\n",
        "network.summary()"
      ],
      "execution_count": null,
      "outputs": [
        {
          "output_type": "stream",
          "name": "stdout",
          "text": [
            "Model: \"sequential\"\n",
            "_________________________________________________________________\n",
            "Layer (type)                 Output Shape              Param #   \n",
            "=================================================================\n",
            "conv2d (Conv2D)              (None, 28, 28, 2)         20        \n",
            "_________________________________________________________________\n",
            "batch_normalization (BatchNo (None, 28, 28, 2)         8         \n",
            "_________________________________________________________________\n",
            "activation (Activation)      (None, 28, 28, 2)         0         \n",
            "_________________________________________________________________\n",
            "conv2d_1 (Conv2D)            (None, 14, 14, 4)         76        \n",
            "_________________________________________________________________\n",
            "batch_normalization_1 (Batch (None, 14, 14, 4)         16        \n",
            "_________________________________________________________________\n",
            "activation_1 (Activation)    (None, 14, 14, 4)         0         \n",
            "_________________________________________________________________\n",
            "conv2d_2 (Conv2D)            (None, 7, 7, 8)           296       \n",
            "_________________________________________________________________\n",
            "batch_normalization_2 (Batch (None, 7, 7, 8)           32        \n",
            "_________________________________________________________________\n",
            "activation_2 (Activation)    (None, 7, 7, 8)           0         \n",
            "_________________________________________________________________\n",
            "flatten (Flatten)            (None, 392)               0         \n",
            "_________________________________________________________________\n",
            "dense (Dense)                (None, 20)                7860      \n",
            "_________________________________________________________________\n",
            "dense_1 (Dense)              (None, 20)                420       \n",
            "_________________________________________________________________\n",
            "dense_2 (Dense)              (None, 20)                420       \n",
            "_________________________________________________________________\n",
            "dense_3 (Dense)              (None, 10)                210       \n",
            "=================================================================\n",
            "Total params: 9,358\n",
            "Trainable params: 9,330\n",
            "Non-trainable params: 28\n",
            "_________________________________________________________________\n"
          ]
        }
      ]
    },
    {
      "cell_type": "code",
      "metadata": {
        "colab": {
          "base_uri": "https://localhost:8080/"
        },
        "id": "ZQNjGQ_cYmkc",
        "outputId": "7c11c539-8d5b-45b9-ce6a-c2f77cc6153b"
      },
      "source": [
        "## train Vanilla-CNN\n",
        "compile_kwargs = {\n",
        "            \"loss\": \"categorical_crossentropy\",\n",
        "            \"optimizer\": keras.optimizers.Adam(3e-4)\n",
        "            }\n",
        "fit_kwargs = {\n",
        "    \"epochs\": 10,\n",
        "    \"batch_size\": 256,\n",
        "    \"verbose\": True\n",
        "    }\n",
        "network.compile(**compile_kwargs)\n",
        "network.fit(x_train, keras.utils.to_categorical(y_train), **fit_kwargs)"
      ],
      "execution_count": null,
      "outputs": [
        {
          "output_type": "stream",
          "name": "stderr",
          "text": [
            "/usr/local/lib/python3.7/dist-packages/tensorflow/python/data/ops/dataset_ops.py:4212: UserWarning: Even though the `tf.config.experimental_run_functions_eagerly` option is set, this option does not apply to tf.data functions. To force eager execution of tf.data functions, please use `tf.data.experimental.enable_debug_mode()`.\n",
            "  \"Even though the `tf.config.experimental_run_functions_eagerly` \"\n"
          ]
        },
        {
          "output_type": "stream",
          "name": "stdout",
          "text": [
            "Epoch 1/10\n",
            "235/235 [==============================] - 37s 34ms/step - loss: 1.6693\n",
            "Epoch 2/10\n",
            "235/235 [==============================] - 8s 33ms/step - loss: 0.4843\n",
            "Epoch 3/10\n",
            "235/235 [==============================] - 8s 34ms/step - loss: 0.2620\n",
            "Epoch 4/10\n",
            "235/235 [==============================] - 8s 34ms/step - loss: 0.1952\n",
            "Epoch 5/10\n",
            "235/235 [==============================] - 8s 33ms/step - loss: 0.1616\n",
            "Epoch 6/10\n",
            "235/235 [==============================] - 8s 33ms/step - loss: 0.1410\n",
            "Epoch 7/10\n",
            "235/235 [==============================] - 8s 33ms/step - loss: 0.1276\n",
            "Epoch 8/10\n",
            "235/235 [==============================] - 8s 33ms/step - loss: 0.1176\n",
            "Epoch 9/10\n",
            "235/235 [==============================] - 8s 33ms/step - loss: 0.1095\n",
            "Epoch 10/10\n",
            "235/235 [==============================] - 8s 33ms/step - loss: 0.1028\n"
          ]
        },
        {
          "output_type": "execute_result",
          "data": {
            "text/plain": [
              "<keras.callbacks.History at 0x7fa9e02175d0>"
            ]
          },
          "metadata": {},
          "execution_count": 9
        }
      ]
    },
    {
      "cell_type": "code",
      "metadata": {
        "colab": {
          "base_uri": "https://localhost:8080/",
          "height": 1000
        },
        "id": "iSJ57_Woj7UE",
        "outputId": "7c5f54f9-c883-4959-fac6-d8069c1d26a9"
      },
      "source": [
        "## train KD-CNN\n",
        "model_kdn = kdcnn(network=network, num_fc_layers=4)\n",
        "model_kdn.fit(x_train, y_train)"
      ],
      "execution_count": null,
      "outputs": [
        {
          "output_type": "stream",
          "name": "stderr",
          "text": [
            "/usr/local/lib/python3.7/dist-packages/tensorflow/python/data/ops/dataset_ops.py:4212: UserWarning: Even though the `tf.config.experimental_run_functions_eagerly` option is set, this option does not apply to tf.data functions. To force eager execution of tf.data functions, please use `tf.data.experimental.enable_debug_mode()`.\n",
            "  \"Even though the `tf.config.experimental_run_functions_eagerly` \"\n"
          ]
        },
        {
          "output_type": "stream",
          "name": "stdout",
          "text": [
            "label :  0\n",
            "Number of Polytopes :  5923\n",
            "Number of Unique Polytopes :  38\n"
          ]
        },
        {
          "output_type": "display_data",
          "data": {
            "image/png": "[encoded data removed]",
            "text/plain": [
              "<Figure size 432x288 with 1 Axes>"
            ]
          },
          "metadata": {
            "needs_background": "light"
          }
        },
        {
          "output_type": "stream",
          "name": "stdout",
          "text": [
            "label :  1\n",
            "Number of Polytopes :  6742\n",
            "Number of Unique Polytopes :  34\n"
          ]
        },
        {
          "output_type": "display_data",
          "data": {
            "image/png": "[encoded data removed]",
            "text/plain": [
              "<Figure size 432x288 with 1 Axes>"
            ]
          },
          "metadata": {
            "needs_background": "light"
          }
        },
        {
          "output_type": "stream",
          "name": "stdout",
          "text": [
            "label :  2\n",
            "Number of Polytopes :  5958\n",
            "Number of Unique Polytopes :  38\n"
          ]
        },
        {
          "output_type": "display_data",
          "data": {
            "image/png": "[encoded data removed]",
            "text/plain": [
              "<Figure size 432x288 with 1 Axes>"
            ]
          },
          "metadata": {
            "needs_background": "light"
          }
        },
        {
          "output_type": "stream",
          "name": "stdout",
          "text": [
            "label :  3\n",
            "Number of Polytopes :  6131\n",
            "Number of Unique Polytopes :  82\n"
          ]
        },
        {
          "output_type": "display_data",
          "data": {
            "image/png": "[encoded data removed]",
            "text/plain": [
              "<Figure size 432x288 with 1 Axes>"
            ]
          },
          "metadata": {
            "needs_background": "light"
          }
        },
        {
          "output_type": "stream",
          "name": "stdout",
          "text": [
            "label :  4\n",
            "Number of Polytopes :  5842\n",
            "Number of Unique Polytopes :  73\n"
          ]
        },
        {
          "output_type": "display_data",
          "data": {
            "image/png": "[encoded data removed]",
            "text/plain": [
              "<Figure size 432x288 with 1 Axes>"
            ]
          },
          "metadata": {
            "needs_background": "light"
          }
        },
        {
          "output_type": "stream",
          "name": "stdout",
          "text": [
            "label :  5\n",
            "Number of Polytopes :  5421\n",
            "Number of Unique Polytopes :  123\n"
          ]
        },
        {
          "output_type": "display_data",
          "data": {
            "image/png": "[encoded data removed]",
            "text/plain": [
              "<Figure size 432x288 with 1 Axes>"
            ]
          },
          "metadata": {
            "needs_background": "light"
          }
        },
        {
          "output_type": "stream",
          "name": "stdout",
          "text": [
            "label :  6\n",
            "Number of Polytopes :  5918\n",
            "Number of Unique Polytopes :  37\n"
          ]
        },
        {
          "output_type": "display_data",
          "data": {
            "image/png": "[encoded data removed]",
            "text/plain": [
              "<Figure size 432x288 with 1 Axes>"
            ]
          },
          "metadata": {
            "needs_background": "light"
          }
        },
        {
          "output_type": "stream",
          "name": "stdout",
          "text": [
            "label :  7\n",
            "Number of Polytopes :  6265\n",
            "Number of Unique Polytopes :  128\n"
          ]
        },
        {
          "output_type": "display_data",
          "data": {
            "image/png": "[encoded data removed]",
            "text/plain": [
              "<Figure size 432x288 with 1 Axes>"
            ]
          },
          "metadata": {
            "needs_background": "light"
          }
        },
        {
          "output_type": "stream",
          "name": "stdout",
          "text": [
            "label :  8\n",
            "Number of Polytopes :  5851\n",
            "Number of Unique Polytopes :  53\n"
          ]
        },
        {
          "output_type": "display_data",
          "data": {
            "image/png": "[encoded data removed]",
            "text/plain": [
              "<Figure size 432x288 with 1 Axes>"
            ]
          },
          "metadata": {
            "needs_background": "light"
          }
        },
        {
          "output_type": "stream",
          "name": "stdout",
          "text": [
            "label :  9\n",
            "Number of Polytopes :  5949\n",
            "Number of Unique Polytopes :  102\n"
          ]
        },
        {
          "output_type": "display_data",
          "data": {
            "image/png": "[encoded data removed]",
            "text/plain": [
              "<Figure size 432x288 with 1 Axes>"
            ]
          },
          "metadata": {
            "needs_background": "light"
          }
        }
      ]
    },
    {
      "cell_type": "code",
      "metadata": {
        "colab": {
          "base_uri": "https://localhost:8080/"
        },
        "id": "pKxR-cz8k6Th",
        "outputId": "472284d0-cd98-4e01-841c-d2b17d602905"
      },
      "source": [
        "## Evaluate KD-CNN\n",
        "y_pred = model_kdn.predict(x_test)\n",
        "accuracy = np.mean(y_pred==y_test.squeeze())\n",
        "print(\"Accuracy : {}\".format(accuracy))"
      ],
      "execution_count": null,
      "outputs": [
        {
          "output_type": "stream",
          "name": "stderr",
          "text": [
            "/usr/local/lib/python3.7/dist-packages/tensorflow/python/data/ops/dataset_ops.py:4212: UserWarning: Even though the `tf.config.experimental_run_functions_eagerly` option is set, this option does not apply to tf.data functions. To force eager execution of tf.data functions, please use `tf.data.experimental.enable_debug_mode()`.\n",
            "  \"Even though the `tf.config.experimental_run_functions_eagerly` \"\n",
            "/usr/local/lib/python3.7/dist-packages/scipy/stats/_multivariate.py:750: RuntimeWarning: overflow encountered in exp\n",
            "  return np.exp(self.logpdf(x))\n",
            "/usr/local/lib/python3.7/dist-packages/ipykernel_launcher.py:218: RuntimeWarning: overflow encountered in add\n"
          ]
        },
        {
          "output_type": "stream",
          "name": "stdout",
          "text": [
            "Accuracy : 0.9571\n"
          ]
        },
        {
          "output_type": "stream",
          "name": "stderr",
          "text": [
            "/usr/local/lib/python3.7/dist-packages/ipykernel_launcher.py:220: RuntimeWarning: invalid value encountered in true_divide\n"
          ]
        }
      ]
    },
    {
      "cell_type": "code",
      "metadata": {
        "colab": {
          "base_uri": "https://localhost:8080/"
        },
        "id": "CszSdPgWALgw",
        "outputId": "2ffe10c4-fe26-44bd-8cec-535a1fe5bb10"
      },
      "source": [
        "## Evaluate Vanilla CNN\n",
        "proba_nn = network.predict(x_test)\n",
        "predicted_label = np.argmax(proba_nn, axis=1)\n",
        "accuracy = np.mean(predicted_label==y_test.squeeze())\n",
        "print(\"Accuracy : {}\".format(accuracy))"
      ],
      "execution_count": null,
      "outputs": [
        {
          "output_type": "stream",
          "name": "stderr",
          "text": [
            "/usr/local/lib/python3.7/dist-packages/tensorflow/python/data/ops/dataset_ops.py:4212: UserWarning: Even though the `tf.config.experimental_run_functions_eagerly` option is set, this option does not apply to tf.data functions. To force eager execution of tf.data functions, please use `tf.data.experimental.enable_debug_mode()`.\n",
            "  \"Even though the `tf.config.experimental_run_functions_eagerly` \"\n"
          ]
        },
        {
          "output_type": "stream",
          "name": "stdout",
          "text": [
            "Accuracy : 0.9694\n"
          ]
        }
      ]
    },
    {
      "cell_type": "markdown",
      "metadata": {
        "id": "RBYZ3SismRLX"
      },
      "source": [
        "# CIFAR-10\n",
        "\n",
        "\n"
      ]
    },
    {
      "cell_type": "code",
      "metadata": {
        "id": "YmXQEbMEfncC",
        "colab": {
          "base_uri": "https://localhost:8080/"
        },
        "outputId": "d422c309-2b40-4980-9754-819884b58f6e"
      },
      "source": [
        "## load data\n",
        "(x_train, y_train), (x_test, y_test) = keras.datasets.cifar10.load_data()"
      ],
      "execution_count": null,
      "outputs": [
        {
          "output_type": "stream",
          "name": "stdout",
          "text": [
            "Downloading data from https://www.cs.toronto.edu/~kriz/cifar-10-python.tar.gz\n",
            "170500096/170498071 [==============================] - 4s 0us/step\n",
            "170508288/170498071 [==============================] - 4s 0us/step\n"
          ]
        }
      ]
    },
    {
      "cell_type": "code",
      "metadata": {
        "id": "gxmfR05jr7xT"
      },
      "source": [
        "## normalize\n",
        "x_train = x_train/255.0\n",
        "x_test = x_test/255.0"
      ],
      "execution_count": null,
      "outputs": []
    },
    {
      "cell_type": "code",
      "metadata": {
        "id": "XfHEye9qmXZJ"
      },
      "source": [
        "## define network \n",
        "\n",
        "def getCNN():\n",
        "\n",
        "  network_base = keras.Sequential()\n",
        "\n",
        "  # conv blocks\n",
        "  network_base.add(layers.Conv2D(filters=4, kernel_size=(3, 3), strides=(1, 1), padding='same', input_shape=(32, 32, 3)))\n",
        "  network_base.add(layers.BatchNormalization())\n",
        "  network_base.add(layers.Activation('relu'))\n",
        "\n",
        "  network_base.add(layers.Conv2D(filters=8, kernel_size=(3, 3), strides=(2, 2), padding='same'))\n",
        "  network_base.add(layers.BatchNormalization())\n",
        "  network_base.add(layers.Activation('relu'))\n",
        "\n",
        "  network_base.add(layers.Conv2D(filters=16, kernel_size=(3, 3), strides=(2, 2), padding='same'))\n",
        "  network_base.add(layers.BatchNormalization())\n",
        "  network_base.add(layers.Activation('relu'))\n",
        "\n",
        "  network_base.add(layers.Conv2D(filters=32, kernel_size=(3, 3), strides=(2, 2), padding='same'))\n",
        "  network_base.add(layers.BatchNormalization())\n",
        "  network_base.add(layers.Activation('relu'))\n",
        "\n",
        "  network_base.add(layers.Flatten())\n",
        "\n",
        "  # fully-connected layers\n",
        "  network_base.add(layers.Dense(20, activation='relu'))\n",
        "  network_base.add(layers.Dense(20, activation='relu'))\n",
        "  network_base.add(layers.Dense(20, activation='relu'))\n",
        "  network_base.add(layers.Dense(10, activation='softmax'))\n",
        "\n",
        "  network_base.compile(loss=\"categorical_crossentropy\", optimizer=keras.optimizers.Adam(3e-4))\n",
        "  return network_base"
      ],
      "execution_count": null,
      "outputs": []
    },
    {
      "cell_type": "markdown",
      "metadata": {
        "id": "mclNrCOttMKW"
      },
      "source": [
        "## CIFAR-10 Experiments"
      ]
    },
    {
      "cell_type": "code",
      "metadata": {
        "colab": {
          "base_uri": "https://localhost:8080/"
        },
        "id": "jAzPSe5SdPMl",
        "outputId": "85dd1295-6132-4c35-f26d-770acd421d4b"
      },
      "source": [
        "network = getCNN()\n",
        "network.summary()"
      ],
      "execution_count": null,
      "outputs": [
        {
          "output_type": "stream",
          "name": "stdout",
          "text": [
            "Model: \"sequential_3\"\n",
            "_________________________________________________________________\n",
            "Layer (type)                 Output Shape              Param #   \n",
            "=================================================================\n",
            "conv2d_10 (Conv2D)           (None, 32, 32, 4)         112       \n",
            "_________________________________________________________________\n",
            "batch_normalization_10 (Batc (None, 32, 32, 4)         16        \n",
            "_________________________________________________________________\n",
            "activation_10 (Activation)   (None, 32, 32, 4)         0         \n",
            "_________________________________________________________________\n",
            "conv2d_11 (Conv2D)           (None, 16, 16, 8)         296       \n",
            "_________________________________________________________________\n",
            "batch_normalization_11 (Batc (None, 16, 16, 8)         32        \n",
            "_________________________________________________________________\n",
            "activation_11 (Activation)   (None, 16, 16, 8)         0         \n",
            "_________________________________________________________________\n",
            "conv2d_12 (Conv2D)           (None, 8, 8, 16)          1168      \n",
            "_________________________________________________________________\n",
            "batch_normalization_12 (Batc (None, 8, 8, 16)          64        \n",
            "_________________________________________________________________\n",
            "activation_12 (Activation)   (None, 8, 8, 16)          0         \n",
            "_________________________________________________________________\n",
            "conv2d_13 (Conv2D)           (None, 4, 4, 32)          4640      \n",
            "_________________________________________________________________\n",
            "batch_normalization_13 (Batc (None, 4, 4, 32)          128       \n",
            "_________________________________________________________________\n",
            "activation_13 (Activation)   (None, 4, 4, 32)          0         \n",
            "_________________________________________________________________\n",
            "flatten_3 (Flatten)          (None, 512)               0         \n",
            "_________________________________________________________________\n",
            "dense_11 (Dense)             (None, 20)                10260     \n",
            "_________________________________________________________________\n",
            "dense_12 (Dense)             (None, 20)                420       \n",
            "_________________________________________________________________\n",
            "dense_13 (Dense)             (None, 20)                420       \n",
            "_________________________________________________________________\n",
            "dense_14 (Dense)             (None, 10)                210       \n",
            "=================================================================\n",
            "Total params: 17,766\n",
            "Trainable params: 17,646\n",
            "Non-trainable params: 120\n",
            "_________________________________________________________________\n"
          ]
        }
      ]
    },
    {
      "cell_type": "code",
      "metadata": {
        "colab": {
          "base_uri": "https://localhost:8080/"
        },
        "id": "gLDtkYXfciXR",
        "outputId": "6468e9d4-2139-470c-e5d5-c5dbc4b9f4af"
      },
      "source": [
        "## train Vanilla-CNN\n",
        "compile_kwargs = {\n",
        "            \"loss\": \"categorical_crossentropy\",\n",
        "            \"optimizer\": keras.optimizers.Adam(3e-4)\n",
        "            }\n",
        "fit_kwargs = {\n",
        "    \"epochs\": 10,\n",
        "    \"batch_size\": 256,\n",
        "    \"verbose\": True\n",
        "    }\n",
        "network.compile(**compile_kwargs)\n",
        "network.fit(x_train, keras.utils.to_categorical(y_train), **fit_kwargs)"
      ],
      "execution_count": null,
      "outputs": [
        {
          "output_type": "stream",
          "name": "stderr",
          "text": [
            "/usr/local/lib/python3.7/dist-packages/tensorflow/python/data/ops/dataset_ops.py:4212: UserWarning: Even though the `tf.config.experimental_run_functions_eagerly` option is set, this option does not apply to tf.data functions. To force eager execution of tf.data functions, please use `tf.data.experimental.enable_debug_mode()`.\n",
            "  \"Even though the `tf.config.experimental_run_functions_eagerly` \"\n"
          ]
        },
        {
          "output_type": "stream",
          "name": "stdout",
          "text": [
            "Epoch 1/10\n",
            "196/196 [==============================] - 9s 44ms/step - loss: 2.1152\n",
            "Epoch 2/10\n",
            "196/196 [==============================] - 9s 44ms/step - loss: 1.8548\n",
            "Epoch 3/10\n",
            "196/196 [==============================] - 9s 45ms/step - loss: 1.6764\n",
            "Epoch 4/10\n",
            "196/196 [==============================] - 9s 44ms/step - loss: 1.5587\n",
            "Epoch 5/10\n",
            "196/196 [==============================] - 9s 44ms/step - loss: 1.4784\n",
            "Epoch 6/10\n",
            "196/196 [==============================] - 9s 44ms/step - loss: 1.4166\n",
            "Epoch 7/10\n",
            "196/196 [==============================] - 9s 44ms/step - loss: 1.3660\n",
            "Epoch 8/10\n",
            "196/196 [==============================] - 9s 44ms/step - loss: 1.3216\n",
            "Epoch 9/10\n",
            "196/196 [==============================] - 9s 45ms/step - loss: 1.2849\n",
            "Epoch 10/10\n",
            "196/196 [==============================] - 9s 44ms/step - loss: 1.2538\n"
          ]
        },
        {
          "output_type": "execute_result",
          "data": {
            "text/plain": [
              "<keras.callbacks.History at 0x7fe90f231b90>"
            ]
          },
          "metadata": {},
          "execution_count": 90
        }
      ]
    },
    {
      "cell_type": "code",
      "metadata": {
        "colab": {
          "base_uri": "https://localhost:8080/",
          "height": 1000
        },
        "id": "MJ9tqUPltiXe",
        "outputId": "afdb8fb9-1ecf-43b2-a476-d83633892f00"
      },
      "source": [
        "model_kdn = kdcnn(network=network, num_fc_layers=4)\n",
        "model_kdn.fit(x_train, y_train)"
      ],
      "execution_count": null,
      "outputs": [
        {
          "output_type": "stream",
          "name": "stderr",
          "text": [
            "/usr/local/lib/python3.7/dist-packages/tensorflow/python/data/ops/dataset_ops.py:4212: UserWarning: Even though the `tf.config.experimental_run_functions_eagerly` option is set, this option does not apply to tf.data functions. To force eager execution of tf.data functions, please use `tf.data.experimental.enable_debug_mode()`.\n",
            "  \"Even though the `tf.config.experimental_run_functions_eagerly` \"\n"
          ]
        },
        {
          "output_type": "stream",
          "name": "stdout",
          "text": [
            "label :  0\n",
            "Number of Polytopes :  5000\n",
            "Number of Unique Polytopes :  3640\n"
          ]
        },
        {
          "output_type": "display_data",
          "data": {
            "image/png": "[encoded data removed]",
            "text/plain": [
              "<Figure size 432x288 with 1 Axes>"
            ]
          },
          "metadata": {
            "needs_background": "light"
          }
        },
        {
          "output_type": "stream",
          "name": "stdout",
          "text": [
            "label :  1\n",
            "Number of Polytopes :  5000\n",
            "Number of Unique Polytopes :  4187\n"
          ]
        },
        {
          "output_type": "display_data",
          "data": {
            "image/png": "[encoded data removed]",
            "text/plain": [
              "<Figure size 432x288 with 1 Axes>"
            ]
          },
          "metadata": {
            "needs_background": "light"
          }
        },
        {
          "output_type": "stream",
          "name": "stdout",
          "text": [
            "label :  2\n",
            "Number of Polytopes :  5000\n",
            "Number of Unique Polytopes :  3427\n"
          ]
        },
        {
          "output_type": "display_data",
          "data": {
            "image/png": "[encoded data removed]",
            "text/plain": [
              "<Figure size 432x288 with 1 Axes>"
            ]
          },
          "metadata": {
            "needs_background": "light"
          }
        },
        {
          "output_type": "stream",
          "name": "stdout",
          "text": [
            "label :  3\n",
            "Number of Polytopes :  5000\n",
            "Number of Unique Polytopes :  2886\n"
          ]
        },
        {
          "output_type": "display_data",
          "data": {
            "image/png": "[encoded data removed]",
            "text/plain": [
              "<Figure size 432x288 with 1 Axes>"
            ]
          },
          "metadata": {
            "needs_background": "light"
          }
        },
        {
          "output_type": "stream",
          "name": "stdout",
          "text": [
            "label :  4\n",
            "Number of Polytopes :  5000\n",
            "Number of Unique Polytopes :  3506\n"
          ]
        },
        {
          "output_type": "display_data",
          "data": {
            "image/png": "[encoded data removed]",
            "text/plain": [
              "<Figure size 432x288 with 1 Axes>"
            ]
          },
          "metadata": {
            "needs_background": "light"
          }
        },
        {
          "output_type": "stream",
          "name": "stdout",
          "text": [
            "label :  5\n",
            "Number of Polytopes :  5000\n",
            "Number of Unique Polytopes :  2773\n"
          ]
        },
        {
          "output_type": "display_data",
          "data": {
            "image/png": "[encoded data removed]",
            "text/plain": [
              "<Figure size 432x288 with 1 Axes>"
            ]
          },
          "metadata": {
            "needs_background": "light"
          }
        },
        {
          "output_type": "stream",
          "name": "stdout",
          "text": [
            "label :  6\n",
            "Number of Polytopes :  5000\n",
            "Number of Unique Polytopes :  3434\n"
          ]
        },
        {
          "output_type": "display_data",
          "data": {
            "image/png": "[encoded data removed]",
            "text/plain": [
              "<Figure size 432x288 with 1 Axes>"
            ]
          },
          "metadata": {
            "needs_background": "light"
          }
        },
        {
          "output_type": "stream",
          "name": "stdout",
          "text": [
            "label :  7\n",
            "Number of Polytopes :  5000\n",
            "Number of Unique Polytopes :  3227\n"
          ]
        },
        {
          "output_type": "display_data",
          "data": {
            "image/png": "[encoded data removed]",
            "text/plain": [
              "<Figure size 432x288 with 1 Axes>"
            ]
          },
          "metadata": {
            "needs_background": "light"
          }
        },
        {
          "output_type": "stream",
          "name": "stdout",
          "text": [
            "label :  8\n",
            "Number of Polytopes :  5000\n",
            "Number of Unique Polytopes :  3234\n"
          ]
        },
        {
          "output_type": "display_data",
          "data": {
            "image/png": "[encoded data removed]",
            "text/plain": [
              "<Figure size 432x288 with 1 Axes>"
            ]
          },
          "metadata": {
            "needs_background": "light"
          }
        },
        {
          "output_type": "stream",
          "name": "stdout",
          "text": [
            "label :  9\n",
            "Number of Polytopes :  5000\n",
            "Number of Unique Polytopes :  3652\n"
          ]
        },
        {
          "output_type": "display_data",
          "data": {
            "image/png": "[encoded data removed]",
            "text/plain": [
              "<Figure size 432x288 with 1 Axes>"
            ]
          },
          "metadata": {
            "needs_background": "light"
          }
        }
      ]
    },
    {
      "cell_type": "code",
      "metadata": {
        "id": "quJymN1o95uY",
        "colab": {
          "base_uri": "https://localhost:8080/"
        },
        "outputId": "99b1f734-660c-43fe-e6fe-30d93897aa1d"
      },
      "source": [
        "## Evaluate KD-CNN\n",
        "y_pred = model_kdn.predict(x_test)\n",
        "accuracy = np.mean(y_pred==y_test.squeeze())\n",
        "print(\"Accuracy : {}\".format(accuracy))"
      ],
      "execution_count": null,
      "outputs": [
        {
          "output_type": "stream",
          "name": "stderr",
          "text": [
            "/usr/local/lib/python3.7/dist-packages/tensorflow/python/data/ops/dataset_ops.py:4212: UserWarning: Even though the `tf.config.experimental_run_functions_eagerly` option is set, this option does not apply to tf.data functions. To force eager execution of tf.data functions, please use `tf.data.experimental.enable_debug_mode()`.\n",
            "  \"Even though the `tf.config.experimental_run_functions_eagerly` \"\n"
          ]
        },
        {
          "output_type": "stream",
          "name": "stdout",
          "text": [
            "Accuracy : 0.5217\n"
          ]
        }
      ]
    },
    {
      "cell_type": "code",
      "metadata": {
        "id": "Eiro7u_pHQ70",
        "colab": {
          "base_uri": "https://localhost:8080/"
        },
        "outputId": "97208e8c-77fa-4a2a-ec50-ac53bf3c20b8"
      },
      "source": [
        "## Evaluate Vanilla CNN\n",
        "proba_nn = model_kdn.network.predict(x_test)\n",
        "predicted_label = np.argmax(proba_nn, axis=1)\n",
        "accuracy = np.mean(predicted_label==y_test.squeeze())\n",
        "print(\"Accuracy : {}\".format(accuracy))"
      ],
      "execution_count": null,
      "outputs": [
        {
          "output_type": "stream",
          "name": "stderr",
          "text": [
            "/usr/local/lib/python3.7/dist-packages/tensorflow/python/data/ops/dataset_ops.py:4212: UserWarning: Even though the `tf.config.experimental_run_functions_eagerly` option is set, this option does not apply to tf.data functions. To force eager execution of tf.data functions, please use `tf.data.experimental.enable_debug_mode()`.\n",
            "  \"Even though the `tf.config.experimental_run_functions_eagerly` \"\n"
          ]
        },
        {
          "output_type": "stream",
          "name": "stdout",
          "text": [
            "Accuracy : 0.5311\n"
          ]
        }
      ]
    },
    {
      "cell_type": "code",
      "metadata": {
        "id": "0fI642hHeNo0"
      },
      "source": [
        ""
      ],
      "execution_count": null,
      "outputs": []
    }
  ]
}